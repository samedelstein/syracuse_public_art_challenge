{
 "cells": [
  {
   "cell_type": "code",
   "execution_count": 1,
   "id": "embedded-scanning",
   "metadata": {},
   "outputs": [],
   "source": [
    "import os\n",
    "import openai\n",
    "import json\n",
    "import pandas as pd\n",
    "\n",
    "openai.api_key = 'OPEN_API_KEY'\n"
   ]
  },
  {
   "cell_type": "code",
   "execution_count": 2,
   "id": "streaming-static",
   "metadata": {},
   "outputs": [],
   "source": [
    "public_art = pd.read_csv('/Users/samedelstein/Downloads/Syracuse_Public_Art.csv')\n",
    "\n",
    "public_art = public_art.rename(columns={\"X\": \"longitude\", \"Y\": \"latitude\"}, errors=\"raise\").sample(40)\n",
    "public_art_string = public_art.to_string()\n"
   ]
  },
  {
   "cell_type": "code",
   "execution_count": 3,
   "id": "ceramic-linux",
   "metadata": {},
   "outputs": [
    {
     "data": {
      "text/plain": [
       "\"based on the following csv, please suggest what a  new  work of syracuse public art  would be and recommend and list out the following information - only list this information do not give me an introduction about the piece:\\n- name\\n- location\\n- latitude\\n- longitude\\n- material used to create the piece\\n- description of what the piece looks like    longitude   latitude  FID                                                Title       Type                                                              Address   Latitude  Longitude Artist_Last_ Artist_First                        Additional_Artists                                                                           Media  Year_Created  Year_Erected   TNT_Area           Neighborhood                                                                        Specific_Location                                                                                                                                  Image_Url\\n46 -76.155051  43.049900   47                                      One, Two, Three  Sculpture                                                 100 South Clinton St  43.049900 -76.155051       Lewitt          Sol                                         ~                                                                Painted Aluminum           NaN        1979.0   Downtown               Downtown                                       James M. Hanley US Courthouse and Federal Building                                                                                                                                        NaN\\n77 -76.148531  43.047617   78                                      Syracuse Firsts      Mural                                                    333 E Onondaga St  43.047617 -76.148531        Never        Jonas                                       NaN                                                     spray paint on cement block           NaN           NaN   Downtown               Downtown                                                           East façade of Monroe Building                                                                                                                                        NaN\\n55 -76.119129  43.041605   56                                          Boom Babies      Mural                                           Westcott St and Harvard Pl  43.041605 -76.119129          NaN          NaN                                       NaN                                                                 Paint on Cement           NaN           NaN   Eastside               Westcott                                                                                      NaN                                                                                                                                        NaN\\n51 -76.145877  43.047616   52                                   Untitled Sculpture  Sculpture                                                  444 East Genesee St  43.047616 -76.145877   Calcagnino       Steven                                         ~                                                                        Concrete           NaN        1975.0   Downtown     Municipal District                   On the McCarthy Avenue side of the building at 444 East Genesee Street                                                                                                                                        NaN\\n1  -76.179600  43.048292    2                                  Taras H. Shevchenko   Monument                                                 198 South Wilbur Ave  43.048292 -76.179600     Benedict       Dexter                                         ~                                                                             NaN           NaN           NaN   Westside         Tipperary Hill  On an island at the intersection of West Fayette Street and Wilbur and Tennyson Avenues                                                                                                                                        NaN\\n27 -76.118440  43.040887   28                                      Peace by Piece       Mural                                   105 Victoria Place (Petit Library)  43.040887 -76.118440        Cofer      Annette                           Mary Lynn Mahan                                                                         Ceramic        2010.0        2011.0   Eastside               Westcott                                                 East-facing wall of Petit Branch Library                                                                                                                                        NaN\\n3  -76.151894  43.051799    4                                     Clinton Serenade      Mural                                              126 South Salina Street  43.051799 -76.151894         Goss        Corky                               Chip Miller                                                               Acrylic on Stucco        2009.0        2009.0   Downtown  Clinton Square (near)                                  On the side of First Niagra Bank (above the drive thru)  https://www.syr.gov/files/sharedassets/public/1-boards-and-commissions/spac/public-art-images/moonlight-serenade_goss-and-miller_2009.jpg\\n42 -76.139388  43.047086   43                                     Inventive Spirit  Sculpture                                                800 block E Geness St  43.047086 -76.139388        Ferro         Tino                                       NaN                                                                          Steel         2021.0        2022.0  Eastside                Eastside                                                                                      NaN                                                                                                                                        NaN\\n24 -76.150608  43.048519   25                                                O1101  Sculpture                                                            Lemp Park  43.048519 -76.150608      Taskale         Tash                                       NaN                                                                           Steel        2009.0        2009.0   Downtown               Downtown                                                 Corner of W. Fayette & S. Warren Streets                                                                                                                                        NaN\\n65 -76.141028  43.048774   66                               Be Yourself/Umbrellove      Mural                                                713 E. Fayette Street  43.048774 -76.141028      Walker         Ally                                        NaN                                                                         Acrylic        2019.0        2020.0   Eastside               Eastside                                                        East and west facades of building                                                                                                                                        NaN\\n68 -76.152398  43.058666   69                                    Lets Fly Syracuse     Mural                                                    547-53 N Salina St  43.058666 -76.152398      Colello   Jacqueline                                       NaN                                                                    latex paints        2021.0        2021.0  Northside              Northside                                                                    northside of property                                                                                                                                        NaN\\n53 -76.149001  43.051012   54                                           Burrow Boy   Monument                                                301-31 Erie Blvd East  43.051012 -76.149001     Tischler          Tom                                       NaN                                                   Onondaga Limestone and Bronze           NaN        1987.0   Downtown         Hanover Square                                                        Across from the Erie Canal Museum                                                                                                                                        NaN\\n36 -76.149032  43.044626   37                                       DecoRated Wall      Mural                                                  235 Harrison Street  43.044626 -76.149032        Meyer         Mike                                       NaN                                                      Auto paint on steel panels        2017.0        2017.0   Downtown               Downtown                                      AXA Parking Garage curved wall facing Montgomery St                                                                                                                                        NaN\\n70 -76.199771  43.059561   71                                          Eva's Mural      Mural                                                       1305 Milton St  43.059561 -76.199771      Colello   Jacqueline                                       NaN                                                                    latex paints        2022.0        2022.0   Westside               Westside                                                                    East wall of property                                                                                                                                        NaN\\n19 -76.141616  43.069573   20                                  Goethe and Schiller   Monument                                         Highland St and Butternut St  43.069573 -76.141616   Friederich       Ernest                          August Rietschel                                                   Bronze; Polished Gray Granite           NaN        1911.0  Northside              Northside                                                                              Skylar Park                                                                                                                                        NaN\\n21 -76.162493  43.041230   22                                         Four Seasons     Mosaic                                                  229 Shonnard Street  43.041230 -76.162493         Zook          Eva      Mark Topp, Megan Connor and students                                                                             NaN        2000.0        2001.0   Westside          Near Westside                                                             East end of Ward Bakery Park                                                                                                                                        NaN\\n79 -76.152557  43.049350   80                                          Whales Tale  Sculpture                                                   200-14 S Salina St  43.049350 -76.152557       Nelson       Miriam                                       NaN                                                                Painted Aluminum        2003.0        2021.0   Downtown               Downtown                                                                        Perseverance Park                                                                                                                                        NaN\\n16 -76.141848  43.047183   17                                   Redfield Monument   Sculpture                                                          Forman Park  43.047183 -76.141848        Landi      Fidardo                                       NaN                                                                Bronze sculpture           NaN        1908.0   Eastside               Eastside                                              Forman Park; west edge of park at Almond St                                                                                                                                        NaN\\n2  -76.185513  43.046728    3                              Stone Throwers Monument   Monument                                            Milton Ave & Tompkins Ave  43.046728 -76.185513     Benedict       Dexter                                         ~                                                                             NaN           NaN           NaN   Westside         Tipperary Hill                                                                      Stone Throwers Park                                                                                                                                        NaN\\n33 -76.134479  43.045706   34                                   Bells of Surrender  Sculpture                                               412 University Avenue   43.045706 -76.134479         Rose      Brendan                                       NaN                                                              Steel and Concrete        2012.0        2012.0   Eastside             University                         412 University Avenue in front of Grace Church's memorial garden                                                                                                                                        NaN\\n20 -76.150671  43.045599   21                        Italian-American War Veterans   Monument                                      North Salina St and Danforth St  43.045599 -76.150671     Pederson     Thorvald                                         ~  Indiana Limestone, Brick, Recessed wood panels, Glass panel covers and Bronze            NaN        1946.0  Northside              Northside                                                            In the middle of Bennett Park                                                                                                                                        NaN\\n28 -76.169350  43.046469   29  Tectonic Sculpture 03 (Walt: The Lock Ness Monster)  Sculpture                                      W. Fayette St at Onondaga Creek  43.046469 -76.169350         Rose      Brendan                                       NaN                                                           Concrete, steel, wood        2011.0        2011.0   Downtown          Armory Square                                                                       Onondaga Creekwalk                                                                                                                                        NaN\\n54 -76.119466  43.040378   55                                      Community Mural      Mural                                       South Beech St and Westcott St  43.040378 -76.119466        Moody      Michael                                       NaN                                                                 Paint on Cement           NaN        1997.0   Eastside               Westcott                                                  At corner of Beech and Westcott Streets                                                                                                                                        NaN\\n13 -76.146779  43.048341   14                                 Fireman's Bell Tower   Monument              East Genesee St, East Fayette St, and South Townsend St  43.048341 -76.146779          NaN          NaN  Foundry of Bronze Bell: Menely, Troy, NY                                                                   Steel; Bronze           NaN        1979.0   Downtown               Downtown                                                       Fayette Firefighters Memorial Park                                                                                                                                        NaN\\n35 -76.157148  43.048891   36                                              Current  Sculpture                                                  Onondaga Creek Walk  43.048891 -76.157148      Hancock     Blessing                                       NaN                                                                 Stainless steel        2016.0        2017.0   Downtown          Armory Square                       Onondaga Creek between Warehouse and Marriott Hotel Parking garage                                                                                                                                        NaN\\n62 -76.161227  43.056433   63                                    Salmon Run Mosaic      Mural                                                  Onondaga Creek Walk  43.056433 -76.161227       Hirsch      Jillian                                       NaN                                                                   Ceramic tiles        2017.0        2017.0  Lakefront              Lakefront                                           Pedestrian bridge sidewall at 507 Plum Street                                                                                                                                         NaN\\n49 -76.149301  43.046290   50                                  East Onondaga Mural      Mural                                                 262 East Onondaga St  43.046290 -76.149301       Matlow         Andy                        Syracuse Art Squad                                                                             NaN           NaN           NaN   Downtown        Columbus Circle              South of Columbus Circle on east facing wall of the Cathedral Parish Center                                                                                                                                        NaN\\n17 -76.156830  43.057096   18                             Benjamin Franklin Statue   Monument                                                 Franklin Square Park  43.057096 -76.156830     Benedict          NaN                                       NaN                                Polished Granite Veneer; Bronze and Brick Pavers           NaN        1989.0  Lakefront        Franklin Square                                                             East Side of Franklin Square                                                                                                                                        NaN\\n76 -76.150402  43.039379   77                              Southside Mural Project      Mural                            Taylor Street Bridge St over S. Salina St  43.039379 -76.150402         Ladd       London                                       NaN                                                                         Acrylic        2017.0        2017.0  Southside              Southisde                                       Bridge underpass walls, both sides of S. Salina St                                                                                                                                        NaN\\n78 -76.155383  43.047776   79                                      24 Second Clock  Sculpture                                                290 West Jefferson St  43.047776 -76.155383          NaN          NaN                                       NaN                                                                             NaN           NaN        2005.0   Downtown          Armory Square                                                     Corner of S. Franklin & W. Jefferson                                                                                                                                        NaN\\n7  -76.151855  43.056447    8                             General Gustavus Sniper    Monument                                                  426 North Salina St  43.056447 -76.151855     Moynihan    Frederick                                       NaN                                                              Bronze and Granite           NaN        1905.0  Northside           Little Italy                                                                        in Schlosser Park                                                                                                                                        NaN\\n38 -76.147016  43.053341   39                                Rose of No Man's Land      Mural                                                     457 James Street  43.053341 -76.147016         Roe          Paul                           Elliott Mattice                                                                         Acrylic        2016.0        2016.0   Downtown               Downtown                                                          East façade of 457 James Street                                                                                                                                        NaN\\n59 -76.119923  43.041619   60                                                Reach      Mural                                              508-510 Westcott Street  43.041619 -76.119923         Echo          NaN                                       NaN                                                                         Acrylic        2015.0        2015.0   Eastside               Westcott                                                   East facing wall in interior courtyard                                                                                                                                        NaN\\n37 -76.146760  43.047932   38                                     Mighty Salt City      Mural                                                420 E. Genesee Street  43.047932 -76.146760   Valenzuela     Cayetano                                       NaN                                                                         Acrylic        2016.0        2016.0   Downtown               Downtown                                                         West façade of 420 E. Genesee St                                                                                                                                        NaN\\n64 -76.170632  43.046069   65                             1022 W, Fayette St Mural      Mural                                               1022 W. Fayette Street  43.046069 -76.170632        Stetz       Eugene                                       NaN                                                                         Acrylic        2018.0        2018.0   Westside               Westside                                                                  East façade of building                                                                                                                                        NaN\\n67 -76.119034  43.041191   68                                Middle Eastern Dreams      Mural                                              501-507 Westcott Street  43.041191 -76.119034         Odeh         Nada                                       NaN                                                                         Acrylic        2020.0        2020.0   Eastside               Eastside                                                                 South façade of building                                                                                                                                        NaN\\n57 -76.151209  43.048499   58                                           S.ALT City      Mural                                                 300 S. Warren Street  43.048499 -76.151209       Snyder        Brett                                       NaN                                                                         Acrylic        2011.0        2012.0   Downtown               Downtown                                                      West side of Lemp Jewelers Building                                                                                                                                        NaN\\n56 -76.118779  43.041378   57                                   Mom's Diner Mosaic     Mosaic                                                       110 Harvard Pl  43.041378 -76.118779          NaN          NaN                                       NaN                                                            Glass, Cement, Paint           NaN           NaN   Eastside               Westcott                                                                  Backside of Mom's Diner                                                                                                                                        NaN\\n18 -76.152937  43.051094   19                        Soldiers and Sailors Monument  Sculpture  Clinton Square (between Water, Clinton and Salina Streets downtown)  43.051094 -76.152937       Dallin        Cyrus                                         ~                                            Bronze and Connecticut White Granite        1909.0        1910.0   Downtown         Clinton Square                                                             North side of Clinton Square                                                                                                                                        NaN\\n58 -76.154257  43.061094   59                                     Lock Alley Mural      Mural                                                  741 N Salina Street  43.061094 -76.154257         Echo          NaN                                       NaN                                                                         Acrylic        2014.0        2014.0  Northside    North Salina Street                   Northwest facing wall at the rear of the building facing a parking lot                                                                                                                                        NaN\""
      ]
     },
     "execution_count": 3,
     "metadata": {},
     "output_type": "execute_result"
    }
   ],
   "source": [
    "question = \"\"\"based on the following csv, please suggest what a  new  work of syracuse public art  would be and recommend and list out the following information - only list this information do not give me an introduction about the piece:\n",
    "- name\n",
    "- location\n",
    "- latitude\n",
    "- longitude\n",
    "- material used to create the piece\n",
    "- description of what the piece looks like\"\"\"\n",
    "\n",
    "question + public_art_string\n"
   ]
  },
  {
   "cell_type": "code",
   "execution_count": 4,
   "id": "broken-circulation",
   "metadata": {},
   "outputs": [],
   "source": [
    "response = openai.ChatCompletion.create(\n",
    "  model=\"gpt-3.5-turbo\",\n",
    "  messages=[\n",
    "        {\"role\": \"system\", \"content\": \"You are a helpful assistant that recommends and lists the name, location, latitude, longitude, type of material, and description of a new art piece in Syracuse, NY.\"},\n",
    "        {\"role\": \"user\", \"content\": question + public_art_string},\n",
    "        {\"role\": \"user\", \"content\": 'Please recommend and list the name, location, latitude, longitude, type of material, and description'}\n",
    "\n",
    "    ]\n",
    ")"
   ]
  },
  {
   "cell_type": "code",
   "execution_count": 5,
   "id": "novel-physics",
   "metadata": {},
   "outputs": [
    {
     "data": {
      "text/plain": [
       "\"Based on the given csv, I recommend a new work of public art in the Syracuse, NY area. \\n\\nName: Steel Grace\\n\\nLocation: Thornden Park\\n\\nLatitude: 43.0383\\n\\nLongitude: -76.1277\\n\\nMaterial: Stainless steel\\n\\nDescription: This sculpture will be made of stainless steel and will be located in Syracuse's historic Thornden Park. The sculpture features a spiral design that is both modern and elegant. The spiral design represents the interconnectedness of all things and is meant to convey a sense of unity and harmony. The sculpture will be installed on a stone base and will be meant to be viewed from all angles. Visitors to Thornden Park will be able to enjoy this beautiful piece of public art and contemplate the many meanings and interpretations of the steel grace sculpture.\""
      ]
     },
     "execution_count": 5,
     "metadata": {},
     "output_type": "execute_result"
    }
   ],
   "source": [
    "response[\"choices\"][0][\"message\"][\"content\"]"
   ]
  },
  {
   "cell_type": "code",
   "execution_count": 6,
   "id": "democratic-thursday",
   "metadata": {},
   "outputs": [],
   "source": [
    "image_response = openai.Image.create(\n",
    "  prompt=response[\"choices\"][0][\"message\"][\"content\"],\n",
    "  n=1,\n",
    "  size=\"1024x1024\"\n",
    ")\n",
    "image_url = image_response['data'][0]['url']"
   ]
  },
  {
   "cell_type": "code",
   "execution_count": 7,
   "id": "stuffed-sentence",
   "metadata": {},
   "outputs": [
    {
     "data": {
      "text/plain": [
       "'https://oaidalleapiprodscus.blob.core.windows.net/private/org-lCOjkmfSz3vJU4xBDIilXaGH/user-zrBjiQr0a0ZqPz3AvA33GnY6/img-7a298MfxrtM8COh4noEa9v8C.png?st=2023-03-11T17%3A00%3A15Z&se=2023-03-11T19%3A00%3A15Z&sp=r&sv=2021-08-06&sr=b&rscd=inline&rsct=image/png&skoid=6aaadede-4fb3-4698-a8f6-684d7786b067&sktid=a48cca56-e6da-484e-a814-9c849652bcb3&skt=2023-03-11T17%3A45%3A27Z&ske=2023-03-12T17%3A45%3A27Z&sks=b&skv=2021-08-06&sig=t8J2J%2BdKhk/36KEFyzqGKwWYQSQrKyr8n/DxUC6R6J0%3D'"
      ]
     },
     "execution_count": 7,
     "metadata": {},
     "output_type": "execute_result"
    }
   ],
   "source": [
    "image_url"
   ]
  },
  {
   "cell_type": "code",
   "execution_count": 8,
   "id": "limiting-candle",
   "metadata": {},
   "outputs": [],
   "source": [
    "chunks = response[\"choices\"][0][\"message\"][\"content\"].split('\\n')\n",
    "\n",
    "df = pd.DataFrame(chunks)\n",
    "df[['Type','Description']] = df[0].str.split(':',expand=True)\n"
   ]
  },
  {
   "cell_type": "code",
   "execution_count": 9,
   "id": "second-township",
   "metadata": {},
   "outputs": [
    {
     "data": {
      "text/html": [
       "<div>\n",
       "<style scoped>\n",
       "    .dataframe tbody tr th:only-of-type {\n",
       "        vertical-align: middle;\n",
       "    }\n",
       "\n",
       "    .dataframe tbody tr th {\n",
       "        vertical-align: top;\n",
       "    }\n",
       "\n",
       "    .dataframe thead th {\n",
       "        text-align: right;\n",
       "    }\n",
       "</style>\n",
       "<table border=\"1\" class=\"dataframe\">\n",
       "  <thead>\n",
       "    <tr style=\"text-align: right;\">\n",
       "      <th></th>\n",
       "      <th>0</th>\n",
       "      <th>Type</th>\n",
       "      <th>Description</th>\n",
       "    </tr>\n",
       "  </thead>\n",
       "  <tbody>\n",
       "    <tr>\n",
       "      <th>0</th>\n",
       "      <td>Based on the given csv, I recommend a new work...</td>\n",
       "      <td>Based on the given csv, I recommend a new work...</td>\n",
       "      <td>None</td>\n",
       "    </tr>\n",
       "    <tr>\n",
       "      <th>1</th>\n",
       "      <td></td>\n",
       "      <td></td>\n",
       "      <td>None</td>\n",
       "    </tr>\n",
       "    <tr>\n",
       "      <th>2</th>\n",
       "      <td>Name: Steel Grace</td>\n",
       "      <td>Name</td>\n",
       "      <td>Steel Grace</td>\n",
       "    </tr>\n",
       "    <tr>\n",
       "      <th>3</th>\n",
       "      <td></td>\n",
       "      <td></td>\n",
       "      <td>None</td>\n",
       "    </tr>\n",
       "    <tr>\n",
       "      <th>4</th>\n",
       "      <td>Location: Thornden Park</td>\n",
       "      <td>Location</td>\n",
       "      <td>Thornden Park</td>\n",
       "    </tr>\n",
       "    <tr>\n",
       "      <th>5</th>\n",
       "      <td></td>\n",
       "      <td></td>\n",
       "      <td>None</td>\n",
       "    </tr>\n",
       "    <tr>\n",
       "      <th>6</th>\n",
       "      <td>Latitude: 43.0383</td>\n",
       "      <td>Latitude</td>\n",
       "      <td>43.0383</td>\n",
       "    </tr>\n",
       "    <tr>\n",
       "      <th>7</th>\n",
       "      <td></td>\n",
       "      <td></td>\n",
       "      <td>None</td>\n",
       "    </tr>\n",
       "    <tr>\n",
       "      <th>8</th>\n",
       "      <td>Longitude: -76.1277</td>\n",
       "      <td>Longitude</td>\n",
       "      <td>-76.1277</td>\n",
       "    </tr>\n",
       "    <tr>\n",
       "      <th>9</th>\n",
       "      <td></td>\n",
       "      <td></td>\n",
       "      <td>None</td>\n",
       "    </tr>\n",
       "    <tr>\n",
       "      <th>10</th>\n",
       "      <td>Material: Stainless steel</td>\n",
       "      <td>Material</td>\n",
       "      <td>Stainless steel</td>\n",
       "    </tr>\n",
       "    <tr>\n",
       "      <th>11</th>\n",
       "      <td></td>\n",
       "      <td></td>\n",
       "      <td>None</td>\n",
       "    </tr>\n",
       "    <tr>\n",
       "      <th>12</th>\n",
       "      <td>Description: This sculpture will be made of st...</td>\n",
       "      <td>Description</td>\n",
       "      <td>This sculpture will be made of stainless stee...</td>\n",
       "    </tr>\n",
       "  </tbody>\n",
       "</table>\n",
       "</div>"
      ],
      "text/plain": [
       "                                                    0  \\\n",
       "0   Based on the given csv, I recommend a new work...   \n",
       "1                                                       \n",
       "2                                   Name: Steel Grace   \n",
       "3                                                       \n",
       "4                             Location: Thornden Park   \n",
       "5                                                       \n",
       "6                                   Latitude: 43.0383   \n",
       "7                                                       \n",
       "8                                 Longitude: -76.1277   \n",
       "9                                                       \n",
       "10                          Material: Stainless steel   \n",
       "11                                                      \n",
       "12  Description: This sculpture will be made of st...   \n",
       "\n",
       "                                                 Type  \\\n",
       "0   Based on the given csv, I recommend a new work...   \n",
       "1                                                       \n",
       "2                                                Name   \n",
       "3                                                       \n",
       "4                                            Location   \n",
       "5                                                       \n",
       "6                                            Latitude   \n",
       "7                                                       \n",
       "8                                           Longitude   \n",
       "9                                                       \n",
       "10                                           Material   \n",
       "11                                                      \n",
       "12                                        Description   \n",
       "\n",
       "                                          Description  \n",
       "0                                                None  \n",
       "1                                                None  \n",
       "2                                         Steel Grace  \n",
       "3                                                None  \n",
       "4                                       Thornden Park  \n",
       "5                                                None  \n",
       "6                                             43.0383  \n",
       "7                                                None  \n",
       "8                                            -76.1277  \n",
       "9                                                None  \n",
       "10                                    Stainless steel  \n",
       "11                                               None  \n",
       "12   This sculpture will be made of stainless stee...  "
      ]
     },
     "execution_count": 9,
     "metadata": {},
     "output_type": "execute_result"
    }
   ],
   "source": [
    "df"
   ]
  },
  {
   "cell_type": "code",
   "execution_count": null,
   "id": "thick-acrobat",
   "metadata": {},
   "outputs": [],
   "source": [
    "df = df.replace(\"<br>\",\" \", regex=True)\n",
    "df.to_csv('public_art.csv')"
   ]
  },
  {
   "cell_type": "code",
   "execution_count": 10,
   "id": "orange-peter",
   "metadata": {},
   "outputs": [],
   "source": [
    "Longitude = float(df['Description'][df['Type']=='Longitude'].iloc[0])\n",
    "Latitude = float(df['Description'][df['Type']=='Latitude'].iloc[0])\n"
   ]
  },
  {
   "cell_type": "code",
   "execution_count": 11,
   "id": "approved-experience",
   "metadata": {},
   "outputs": [],
   "source": [
    "st_map = pd.DataFrame([[Latitude, Longitude]], columns=['lat', 'lon'])"
   ]
  },
  {
   "cell_type": "code",
   "execution_count": 14,
   "id": "stretch-baghdad",
   "metadata": {},
   "outputs": [
    {
     "data": {
      "text/plain": [
       "' Steel Grace'"
      ]
     },
     "execution_count": 14,
     "metadata": {},
     "output_type": "execute_result"
    }
   ],
   "source": [
    "df[df['Type']=='Name']['Description'].iloc[0]"
   ]
  },
  {
   "cell_type": "code",
   "execution_count": 15,
   "id": "built-wayne",
   "metadata": {},
   "outputs": [
    {
     "data": {
      "text/plain": [
       "' Thornden Park'"
      ]
     },
     "execution_count": 15,
     "metadata": {},
     "output_type": "execute_result"
    }
   ],
   "source": [
    "df[df['Type']=='Location']['Description'].iloc[0]"
   ]
  },
  {
   "cell_type": "code",
   "execution_count": 16,
   "id": "cross-eligibility",
   "metadata": {},
   "outputs": [
    {
     "data": {
      "text/plain": [
       "' Stainless steel'"
      ]
     },
     "execution_count": 16,
     "metadata": {},
     "output_type": "execute_result"
    }
   ],
   "source": [
    "df[df['Type']=='Material']['Description'].iloc[0]"
   ]
  },
  {
   "cell_type": "code",
   "execution_count": 17,
   "id": "rational-structure",
   "metadata": {},
   "outputs": [
    {
     "data": {
      "text/plain": [
       "\" This sculpture will be made of stainless steel and will be located in Syracuse's historic Thornden Park. The sculpture features a spiral design that is both modern and elegant. The spiral design represents the interconnectedness of all things and is meant to convey a sense of unity and harmony. The sculpture will be installed on a stone base and will be meant to be viewed from all angles. Visitors to Thornden Park will be able to enjoy this beautiful piece of public art and contemplate the many meanings and interpretations of the steel grace sculpture.\""
      ]
     },
     "execution_count": 17,
     "metadata": {},
     "output_type": "execute_result"
    }
   ],
   "source": [
    "df[df['Type']=='Description']['Description'].iloc[0]"
   ]
  },
  {
   "cell_type": "code",
   "execution_count": null,
   "id": "collaborative-table",
   "metadata": {},
   "outputs": [],
   "source": []
  }
 ],
 "metadata": {
  "kernelspec": {
   "display_name": "Python 3",
   "language": "python",
   "name": "python3"
  },
  "language_info": {
   "codemirror_mode": {
    "name": "ipython",
    "version": 3
   },
   "file_extension": ".py",
   "mimetype": "text/x-python",
   "name": "python",
   "nbconvert_exporter": "python",
   "pygments_lexer": "ipython3",
   "version": "3.7.9"
  }
 },
 "nbformat": 4,
 "nbformat_minor": 5
}
